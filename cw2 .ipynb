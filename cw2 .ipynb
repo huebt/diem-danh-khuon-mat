{
  "nbformat": 4,
  "nbformat_minor": 0,
  "metadata": {
    "colab": {
      "name": "cw2.ipynb",
      "provenance": [],
      "collapsed_sections": []
    },
    "kernelspec": {
      "name": "python3",
      "display_name": "Python 3"
    },
    "language_info": {
      "name": "python"
    }
  },
  "cells": [
    {
      "cell_type": "markdown",
      "metadata": {
        "id": "2Njh5kTZYliJ"
      },
      "source": [
        "Coursework2 \n",
        "\n",
        "Mình sẽ làm bài toán điểm danh trong công ty. Mọi người có video của các bạn đã quay, tùy ý xử lý. Sau đấy sẽ dự đoán với 1 ảnh mới xem ảnh đấy là bạn nào.  \n",
        "\n",
        "Ý tưởng làm sẽ là: video -> ảnh -> face detection (cắt ra vùng chứa face: dlib, mtcnn, retinaface) -> dùng pre-trained model từ face sang feature -> có thể fine-tune hoặc feature extractor (SVM) để phân biệt xem mặt bạn nào.         \n",
        "\n",
        "Dùng pre-trained model ra embedding, so sánh L2 (cosin) 2 vector xem có cùng 1 mặt không (Arcface).\n",
        "\n",
        "Tham khảo:     \n",
        "[https://github.com/deepinsight/insightface]\n",
        "[https://github.com/serengil/deepface]\n",
        "[https://github.com/davidsandberg/facenet]\n",
        "\n",
        "Chấm điểm: Mình có 1 bộ testset, mỗi ảnh dự đoán đúng được 1 điểm, dự đoán sai bị trừ 0.5, dự đoán unknown không được điểm cũng không bị trừ điểm           \n",
        "Deadline: 11h59 tối thứ ba 7/9. Dataset: \n",
        "https://drive.google.com/drive/folders/1qjquQQ8FkpzhrLNqcsS1Q_-6W9qNg3j4?fbclid=IwAR2yx5beOBjSJqxi_Togz5RSxdHJRbipfbcmbeUkQcq76XB-fWMiSlrBvX4"
      ]
    },
    {
      "cell_type": "code",
      "metadata": {
        "colab": {
          "base_uri": "https://localhost:8080/"
        },
        "id": "dkFSFbAJObQw",
        "outputId": "4fed983c-205e-464e-d8de-16e2e9c7e993"
      },
      "source": [
        "from google.colab import drive\n",
        "drive.mount('/content/drive')"
      ],
      "execution_count": 35,
      "outputs": [
        {
          "output_type": "stream",
          "name": "stdout",
          "text": [
            "Drive already mounted at /content/drive; to attempt to forcibly remount, call drive.mount(\"/content/drive\", force_remount=True).\n"
          ]
        }
      ]
    },
    {
      "cell_type": "code",
      "metadata": {
        "colab": {
          "base_uri": "https://localhost:8080/"
        },
        "id": "ZxR89a5ldh0f",
        "outputId": "adf2e1d9-8840-4808-cf37-6805e674eed8"
      },
      "source": [
        "pip install unidecode"
      ],
      "execution_count": 2,
      "outputs": [
        {
          "output_type": "stream",
          "name": "stdout",
          "text": [
            "Collecting unidecode\n",
            "  Downloading Unidecode-1.3.0-py2.py3-none-any.whl (235 kB)\n",
            "\u001b[K     |████████████████████████████████| 235 kB 3.1 MB/s \n",
            "\u001b[?25hInstalling collected packages: unidecode\n",
            "Successfully installed unidecode-1.3.0\n"
          ]
        }
      ]
    },
    {
      "cell_type": "code",
      "metadata": {
        "id": "XiA1ExhsYj-e"
      },
      "source": [
        "import os\n",
        "import cv2\n",
        "import time\n",
        "from google.colab.patches import cv2_imshow\n",
        "import unidecode"
      ],
      "execution_count": 3,
      "outputs": []
    },
    {
      "cell_type": "code",
      "metadata": {
        "id": "8_A-qSAgYog8",
        "colab": {
          "base_uri": "https://localhost:8080/"
        },
        "outputId": "de3f11b0-feb8-4a02-bc1f-837bbc1980fa"
      },
      "source": [
        "os.listdir(\"/content/drive/MyDrive/cw2/Video\") "
      ],
      "execution_count": 4,
      "outputs": [
        {
          "output_type": "execute_result",
          "data": {
            "text/plain": [
              "['Tuấn.mp4',\n",
              " 'Trường.mp4',\n",
              " 'Linh.mp4',\n",
              " 'Hiếu.mp4',\n",
              " 'Quân.mp4',\n",
              " 'Xuân Anh.mp4',\n",
              " 'Tân.mp4',\n",
              " 'Đức.mp4',\n",
              " 'Kiên.mp4',\n",
              " 'Việt Đức.mp4',\n",
              " 'Hùng.mp4',\n",
              " 'Thắng.mp4',\n",
              " 'Vân.mp4',\n",
              " 'HĐức.mp4']"
            ]
          },
          "metadata": {},
          "execution_count": 4
        }
      ]
    },
    {
      "cell_type": "code",
      "metadata": {
        "id": "WmejHIkQYp_-",
        "colab": {
          "base_uri": "https://localhost:8080/"
        },
        "outputId": "af1911db-d62b-483b-9075-0fa4572503b4"
      },
      "source": [
        "files_dir = []\n",
        "for root, directory, file in os.walk(\"/content/drive/MyDrive/cw2/Video\"):\n",
        "    for f in file:\n",
        "        f_ = os.path.join(root, f)\n",
        "        files_dir.append(f_)\n",
        "print(files_dir)\n",
        "\n",
        "\n",
        "for file in files_dir:\n",
        "    f = file.split(\"/\")\n",
        "    name = f[-1].split(\".\")[0]\n",
        "    name = unidecode.unidecode(name)\n",
        "    print(name)"
      ],
      "execution_count": 5,
      "outputs": [
        {
          "output_type": "stream",
          "name": "stdout",
          "text": [
            "['/content/drive/MyDrive/cw2/Video/Tuấn.mp4', '/content/drive/MyDrive/cw2/Video/Trường.mp4', '/content/drive/MyDrive/cw2/Video/Linh.mp4', '/content/drive/MyDrive/cw2/Video/Hiếu.mp4', '/content/drive/MyDrive/cw2/Video/Quân.mp4', '/content/drive/MyDrive/cw2/Video/Xuân Anh.mp4', '/content/drive/MyDrive/cw2/Video/Tân.mp4', '/content/drive/MyDrive/cw2/Video/Đức.mp4', '/content/drive/MyDrive/cw2/Video/Kiên.mp4', '/content/drive/MyDrive/cw2/Video/Việt Đức.mp4', '/content/drive/MyDrive/cw2/Video/Hùng.mp4', '/content/drive/MyDrive/cw2/Video/Thắng.mp4', '/content/drive/MyDrive/cw2/Video/Vân.mp4', '/content/drive/MyDrive/cw2/Video/HĐức.mp4']\n",
            "Tuan\n",
            "Truong\n",
            "Linh\n",
            "Hieu\n",
            "Quan\n",
            "Xuan Anh\n",
            "Tan\n",
            "Duc\n",
            "Kien\n",
            "Viet Duc\n",
            "Hung\n",
            "Thang\n",
            "Van\n",
            "HDuc\n"
          ]
        }
      ]
    },
    {
      "cell_type": "code",
      "metadata": {
        "id": "5xihD5mkYrQV",
        "colab": {
          "base_uri": "https://localhost:8080/"
        },
        "outputId": "7524b35f-acae-4a18-bd5b-162b765e3aa2"
      },
      "source": [
        "step = 20\n",
        "counts = []\n",
        "output_loc = \"/content/drive/MyDrive/cw2/Raw\"\n",
        "for label in files_dir:\n",
        "    sub_output_loc = label.split(\"/\")[-1].split(\".\")[0]\n",
        "    sub_output_loc = unidecode.unidecode(sub_output_loc)\n",
        "    output_loc_ = output_loc + \"/\" + sub_output_loc\n",
        "    print(output_loc_)\n",
        "    try:\n",
        "        os.mkdir(output_loc_)\n",
        "    except OSError:\n",
        "        pass\n",
        "    vidcap = cv2.VideoCapture(label)\n",
        "    success, image = vidcap.read()\n",
        "    count = 0\n",
        "    while success:\n",
        "        if count % step == 0:\n",
        "            cv2.imwrite(output_loc_ + \"/frame\" + str(count//step) + \".jpg\" , image)\n",
        "        success, image = vidcap.read()\n",
        "        count += 1\n",
        "    counts.append(count)"
      ],
      "execution_count": 8,
      "outputs": [
        {
          "output_type": "stream",
          "name": "stdout",
          "text": [
            "/content/drive/MyDrive/cw2/Raw/Tuan\n",
            "/content/drive/MyDrive/cw2/Raw/Truong\n",
            "/content/drive/MyDrive/cw2/Raw/Linh\n",
            "/content/drive/MyDrive/cw2/Raw/Hieu\n",
            "/content/drive/MyDrive/cw2/Raw/Quan\n",
            "/content/drive/MyDrive/cw2/Raw/Xuan Anh\n",
            "/content/drive/MyDrive/cw2/Raw/Tan\n",
            "/content/drive/MyDrive/cw2/Raw/Duc\n",
            "/content/drive/MyDrive/cw2/Raw/Kien\n",
            "/content/drive/MyDrive/cw2/Raw/Viet Duc\n",
            "/content/drive/MyDrive/cw2/Raw/Hung\n",
            "/content/drive/MyDrive/cw2/Raw/Thang\n",
            "/content/drive/MyDrive/cw2/Raw/Van\n",
            "/content/drive/MyDrive/cw2/Raw/HDuc\n"
          ]
        }
      ]
    },
    {
      "cell_type": "code",
      "metadata": {
        "id": "q9IrF5t73T9O",
        "colab": {
          "base_uri": "https://localhost:8080/"
        },
        "outputId": "3662b57d-dfe3-4f33-d508-6ba1d517b3c5"
      },
      "source": [
        "! pip install mtcnn"
      ],
      "execution_count": 9,
      "outputs": [
        {
          "output_type": "stream",
          "name": "stdout",
          "text": [
            "Collecting mtcnn\n",
            "  Downloading mtcnn-0.1.1-py3-none-any.whl (2.3 MB)\n",
            "\u001b[K     |████████████████████████████████| 2.3 MB 2.7 MB/s \n",
            "\u001b[?25hRequirement already satisfied: opencv-python>=4.1.0 in /usr/local/lib/python3.7/dist-packages (from mtcnn) (4.1.2.30)\n",
            "Requirement already satisfied: keras>=2.0.0 in /usr/local/lib/python3.7/dist-packages (from mtcnn) (2.6.0)\n",
            "Requirement already satisfied: numpy>=1.14.5 in /usr/local/lib/python3.7/dist-packages (from opencv-python>=4.1.0->mtcnn) (1.19.5)\n",
            "Installing collected packages: mtcnn\n",
            "Successfully installed mtcnn-0.1.1\n"
          ]
        }
      ]
    },
    {
      "cell_type": "code",
      "metadata": {
        "id": "3IPIXGbh3T3w",
        "colab": {
          "base_uri": "https://localhost:8080/"
        },
        "outputId": "62c588a9-d574-46b4-e1e8-03a3ed16cef4"
      },
      "source": [
        "# confirm mtcnn was installed correctly\n",
        "import mtcnn\n",
        "# print version\n",
        "print(mtcnn.__version__)"
      ],
      "execution_count": 32,
      "outputs": [
        {
          "output_type": "stream",
          "name": "stdout",
          "text": [
            "0.1.0\n"
          ]
        }
      ]
    },
    {
      "cell_type": "code",
      "metadata": {
        "id": "d5rBGtxhZKsO"
      },
      "source": [
        "from sklearn.datasets import load_files\n",
        "import numpy as np"
      ],
      "execution_count": 33,
      "outputs": []
    },
    {
      "cell_type": "code",
      "metadata": {
        "id": "OK0KrC3W54dY",
        "colab": {
          "base_uri": "https://localhost:8080/",
          "height": 467
        },
        "outputId": "126a4173-dff0-4687-a627-438432f3063c"
      },
      "source": [
        "# demonstrate face detection on 5 Celebrity Faces Dataset\n",
        "from os import listdir\n",
        "from io import BytesIO\n",
        "from PIL import Image\n",
        "from numpy import asarray\n",
        "from matplotlib import pyplot\n",
        "from mtcnn.mtcnn import MTCNN\n",
        "\n",
        "# extract a single face from a given photograph\n",
        "def extract_face(filename, required_size=(160, 160)):\n",
        "\t# load image from file\n",
        "\timage = Image.open(filename)\n",
        "\t# convert to RGB, if needed\n",
        "\timage = image.convert('RGB')\n",
        "\t# convert to array\n",
        "\tpixels = asarray(image)\n",
        "\t# create the detector, using default weights\n",
        "\tdetector = MTCNN()\n",
        "\t# detect faces in the image\n",
        "\tresults = detector.detect_faces(pixels)\n",
        "\t# extract the bounding box from the first face\n",
        "\tx1, y1, width, height = results[0]['box']\n",
        "\t# bug fix\n",
        "\tx1, y1 = abs(x1), abs(y1)\n",
        "\tx2, y2 = x1 + width, y1 + height\n",
        "\t# extract the face\n",
        "\tface = pixels[y1:y2, x1:x2]\n",
        "\t# resize pixels to the model size\n",
        "\timage = Image.fromarray(face)\n",
        "\timage = image.resize(required_size)\n",
        "\tface_array = asarray(image)\n",
        "\treturn face_array\n",
        "\n",
        "# specify folder to plot\n",
        "folder = '/content/drive/MyDrive/cw2/Train/Xuan Anh/'\n",
        "i = 1\n",
        "# enumerate files\n",
        "for filename in listdir(folder):\n",
        "\t# path\n",
        "\tpath = folder + filename\n",
        "\t# get face\n",
        "\tface = extract_face(path)\n",
        "\tprint(i, face.shape)\n",
        "\t# plot\n",
        "\tpyplot.subplot(8, 9, i)\n",
        "\tpyplot.axis('off')\n",
        "\tpyplot.imshow(face)\n",
        "\ti += 1\n",
        "pyplot.show()\n"
      ],
      "execution_count": 96,
      "outputs": [
        {
          "output_type": "stream",
          "name": "stdout",
          "text": [
            "1 (160, 160, 3)\n",
            "2 (160, 160, 3)\n",
            "3 (160, 160, 3)\n",
            "4 (160, 160, 3)\n",
            "5 (160, 160, 3)\n",
            "6 (160, 160, 3)\n",
            "7 (160, 160, 3)\n",
            "8 (160, 160, 3)\n",
            "9 (160, 160, 3)\n",
            "10 (160, 160, 3)\n",
            "11 (160, 160, 3)\n",
            "12 (160, 160, 3)\n",
            "13 (160, 160, 3)\n",
            "14 (160, 160, 3)\n",
            "15 (160, 160, 3)\n",
            "16 (160, 160, 3)\n",
            "17 (160, 160, 3)\n",
            "18 (160, 160, 3)\n",
            "19 (160, 160, 3)\n",
            "20 (160, 160, 3)\n",
            "21 (160, 160, 3)\n"
          ]
        },
        {
          "output_type": "display_data",
          "data": {
            "image/png": "[encoded data removed]",
            "text/plain": [
              "<Figure size 432x288 with 21 Axes>"
            ]
          },
          "metadata": {
            "needs_background": "light"
          }
        }
      ]
    },
    {
      "cell_type": "code",
      "metadata": {
        "id": "I55BxNBD6up4"
      },
      "source": [
        "# face detection for the 5 Celebrity Faces Dataset\n",
        "from os import listdir\n",
        "from os.path import isdir\n",
        "from PIL import Image\n",
        "from matplotlib import pyplot\n",
        "from numpy import savez_compressed\n",
        "from numpy import asarray\n",
        "from mtcnn.mtcnn import MTCNN\n",
        "\n",
        "# extract a single face from a given photograph\n",
        "def extract_face(filename, required_size=(160, 160)):\n",
        "\t# load image from file\n",
        "\timage = Image.open(filename)\n",
        "\t# convert to RGB, if needed\n",
        "\timage = image.convert('RGB')\n",
        "\t# convert to array\n",
        "\tpixels = asarray(image)\n",
        "\t# create the detector, using default weights\n",
        "\tdetector = MTCNN()\n",
        "\t# detect faces in the image\n",
        "\tresults = detector.detect_faces(pixels)\n",
        "\t# extract the bounding box from the first face\n",
        "\tx1, y1, width, height = results[0]['box']\n",
        "\t# bug fix\n",
        "\tx1, y1 = abs(x1), abs(y1)\n",
        "\tx2, y2 = x1 + width, y1 + height\n",
        "\t# extract the face\n",
        "\tface = pixels[y1:y2, x1:x2]\n",
        "\t# resize pixels to the model size\n",
        "\timage = Image.fromarray(face)\n",
        "\timage = image.resize(required_size)\n",
        "\tface_array = asarray(image)\n",
        "\treturn face_array\n",
        "\n"
      ],
      "execution_count": 82,
      "outputs": []
    },
    {
      "cell_type": "code",
      "metadata": {
        "id": "fZ9Sd241YkI-"
      },
      "source": [
        "def load_faces(directory):\n",
        "    faces = list()\n",
        "    # enumerate files\n",
        "    for filename in listdir(directory):\n",
        "        # path\n",
        "        path = directory + filename\n",
        "        # get face\n",
        "        face = extract_face(path)\n",
        "        # store\n",
        "        faces.append(face)\n",
        "    return faces"
      ],
      "execution_count": 83,
      "outputs": []
    },
    {
      "cell_type": "code",
      "metadata": {
        "id": "gKrHO1AhGAtz"
      },
      "source": [
        "def load_dataset(directory):\n",
        "\tX, y = list(), list()\n",
        "\t# enumerate folders, on per class\n",
        "\tfor subdir in listdir(directory):\n",
        "\t\t# path\n",
        "\t\tpath = directory + subdir + '/'\n",
        "\t\t# skip any files that might be in the dir\n",
        "\t\t#\n",
        "\t\t# load all faces in the subdirectory\n",
        "\t\tfaces = load_faces(path)\n",
        "\t\t# create labels\n",
        "\t\tlabels = [subdir for _ in range(len(faces))]\n",
        "\t\t# summarize progress\n",
        "\t\tprint('>loaded %d examples for class: %s' % (len(faces), subdir))\n",
        "\t\t# store\n",
        "\t\tX.extend(faces)\n",
        "\t\ty.extend(labels)\n",
        "\treturn asarray(X), asarray(y)"
      ],
      "execution_count": 84,
      "outputs": []
    },
    {
      "cell_type": "code",
      "metadata": {
        "id": "3DfYGr13rOUj",
        "colab": {
          "base_uri": "https://localhost:8080/"
        },
        "outputId": "ae24d613-ec4b-4601-b78f-acd77bd24259"
      },
      "source": [
        "trainX, trainy = load_dataset('/content/drive/MyDrive/cw2/Train/')\n",
        "print(trainX.shape, trainy.shape)\n",
        "# load test dataset\n",
        "testX, testy = load_dataset('/content/drive/MyDrive/cw2/Val/')"
      ],
      "execution_count": 120,
      "outputs": [
        {
          "output_type": "stream",
          "name": "stdout",
          "text": [
            ">loaded 14 examples for class: Kien\n",
            ">loaded 13 examples for class: Thang\n",
            ">loaded 17 examples for class: Linh\n",
            ">loaded 20 examples for class: Hung\n",
            ">loaded 22 examples for class: Van\n",
            ">loaded 28 examples for class: Duc\n",
            ">loaded 8 examples for class: Quan\n",
            ">loaded 14 examples for class: Tuan\n",
            ">loaded 21 examples for class: Xuan Anh\n",
            ">loaded 25 examples for class: Hieu\n",
            ">loaded 17 examples for class: Truong\n",
            ">loaded 9 examples for class: HDuc\n",
            ">loaded 16 examples for class: Tan\n",
            ">loaded 23 examples for class: Viet Duc\n",
            "(247, 160, 160, 3) (247,)\n",
            ">loaded 1 examples for class: Kien\n",
            ">loaded 1 examples for class: Thang\n",
            ">loaded 1 examples for class: Linh\n",
            ">loaded 1 examples for class: Hung\n",
            ">loaded 1 examples for class: Van\n",
            ">loaded 1 examples for class: Duc\n",
            ">loaded 1 examples for class: Quan\n",
            ">loaded 1 examples for class: Tuan\n",
            ">loaded 1 examples for class: Xuan Anh\n",
            ">loaded 1 examples for class: Hieu\n",
            ">loaded 1 examples for class: Truong\n",
            ">loaded 1 examples for class: HDuc\n",
            ">loaded 1 examples for class: Tan\n",
            ">loaded 1 examples for class: Viet Duc\n"
          ]
        }
      ]
    },
    {
      "cell_type": "code",
      "metadata": {
        "id": "NqtvsfqRfwVQ"
      },
      "source": [
        "savez_compressed('faces-dataset.npz', trainX, trainy, testX, testy)"
      ],
      "execution_count": 121,
      "outputs": []
    },
    {
      "cell_type": "code",
      "metadata": {
        "id": "xEj1BlEvJH_I",
        "colab": {
          "base_uri": "https://localhost:8080/"
        },
        "outputId": "906880a7-88c2-4d4e-a3ae-823cb9cd211e"
      },
      "source": [
        "# calculate a face embedding for each face in the dataset using facenet\n",
        "from numpy import load\n",
        "from numpy import expand_dims\n",
        "from numpy import asarray\n",
        "from numpy import savez_compressed\n",
        "from keras.models import load_model\n",
        "\n",
        "# get the face embedding for one face\n",
        "def get_embedding(model, face_pixels):\n",
        "\t# scale pixel values\n",
        "\tface_pixels = face_pixels.astype('float32')\n",
        "\t# standardize pixel values across channels (global)\n",
        "\tmean, std = face_pixels.mean(), face_pixels.std()\n",
        "\tface_pixels = (face_pixels - mean) / std\n",
        "\t# transform face into one sample\n",
        "\tsamples = expand_dims(face_pixels, axis=0)\n",
        "\t# make prediction to get embedding\n",
        "\tyhat = model.predict(samples)\n",
        "\treturn yhat[0]\n",
        "\n",
        "# load the face dataset\n",
        "data = load('faces-dataset.npz')\n",
        "trainX, trainy, testX, testy = data['arr_0'], data['arr_1'], data['arr_2'], data['arr_3']\n",
        "print('Loaded: ', trainX.shape, trainy.shape, testX.shape, testy.shape)\n",
        "# load the facenet model\n",
        "model = load_model('/content/drive/MyDrive/cw2/Models/facenet_keras.h5')\n",
        "print('Loaded Model')\n",
        "# convert each face in the train set to an embedding\n",
        "newTrainX = list()\n",
        "for face_pixels in trainX:\n",
        "\tembedding = get_embedding(model, face_pixels)\n",
        "\tnewTrainX.append(embedding)\n",
        "newTrainX = asarray(newTrainX)\n",
        "print(newTrainX.shape)\n",
        "# convert each face in the test set to an embedding\n",
        "newTestX = list()\n",
        "for face_pixels in testX:\n",
        "\tembedding = get_embedding(model, face_pixels)\n",
        "\tnewTestX.append(embedding)\n",
        "newTestX = asarray(newTestX)\n",
        "print(newTestX.shape)\n",
        "# save arrays to one file in compressed format\n",
        "savez_compressed('faces-embeddings.npz', newTrainX, trainy, newTestX, testy)"
      ],
      "execution_count": 122,
      "outputs": [
        {
          "output_type": "stream",
          "name": "stdout",
          "text": [
            "Loaded:  (247, 160, 160, 3) (247,) (14, 160, 160, 3) (14,)\n",
            "WARNING:tensorflow:No training configuration found in the save file, so the model was *not* compiled. Compile it manually.\n",
            "Loaded Model\n",
            "(247, 128)\n",
            "(14, 128)\n"
          ]
        }
      ]
    },
    {
      "cell_type": "code",
      "metadata": {
        "colab": {
          "base_uri": "https://localhost:8080/"
        },
        "id": "DVFJKkSCglR-",
        "outputId": "bc538148-09b3-4db5-b792-3dd1fc9e38c5"
      },
      "source": [
        "from numpy import load\n",
        "from sklearn.metrics import accuracy_score\n",
        "from sklearn.preprocessing import LabelEncoder\n",
        "from sklearn.preprocessing import Normalizer\n",
        "from sklearn.svm import SVC\n",
        "# load dataset\n",
        "data = load('faces-embeddings.npz')\n",
        "trainX, trainy, testX, testy = data['arr_0'], data['arr_1'], data['arr_2'], data['arr_3']\n",
        "print('Dataset: train=%d, test=%d' % (trainX.shape[0], testX.shape[0]))"
      ],
      "execution_count": 123,
      "outputs": [
        {
          "output_type": "stream",
          "name": "stdout",
          "text": [
            "Dataset: train=247, test=14\n"
          ]
        }
      ]
    },
    {
      "cell_type": "code",
      "metadata": {
        "id": "zfjpDGuIJH6n",
        "colab": {
          "base_uri": "https://localhost:8080/"
        },
        "outputId": "da9bbfdd-a58e-490e-e14e-02e807920fa3"
      },
      "source": [
        "\n",
        "from numpy import load\n",
        "from sklearn.metrics import accuracy_score\n",
        "from sklearn.preprocessing import LabelEncoder\n",
        "from sklearn.preprocessing import Normalizer\n",
        "from sklearn.svm import SVC\n",
        "# load dataset\n",
        "data = load('faces-embeddings.npz')\n",
        "trainX, trainy, testX, testy = data['arr_0'], data['arr_1'], data['arr_2'], data['arr_3']\n",
        "print('Dataset: train=%d, test=%d' % (trainX.shape[0], testX.shape[0]))\n",
        "# normalize input vectors\n",
        "in_encoder = Normalizer(norm='l2')\n",
        "trainX = in_encoder.transform(trainX)\n",
        "testX = in_encoder.transform(testX)\n",
        "# label encode targets\n",
        "out_encoder = LabelEncoder()\n",
        "out_encoder.fit(trainy)\n",
        "trainy = out_encoder.transform(trainy)\n",
        "testy = out_encoder.transform(testy)\n",
        "# fit model\n",
        "model = SVC(kernel='linear', probability=True)\n",
        "model.fit(trainX, trainy)\n",
        "# predict\n",
        "yhat_train = model.predict(trainX)\n",
        "yhat_test = model.predict(testX)\n",
        "# score\n",
        "score_train = accuracy_score(trainy, yhat_train)\n",
        "score_test = accuracy_score(testy, yhat_test)\n",
        "# summarize\n",
        "print('Accuracy: train=%.3f, test=%.3f' % (score_train*100, score_test*100))"
      ],
      "execution_count": 124,
      "outputs": [
        {
          "output_type": "stream",
          "name": "stdout",
          "text": [
            "Dataset: train=247, test=14\n",
            "Accuracy: train=99.595, test=100.000\n"
          ]
        }
      ]
    },
    {
      "cell_type": "code",
      "metadata": {
        "id": "bSyrtv0IJHxi",
        "colab": {
          "base_uri": "https://localhost:8080/",
          "height": 315
        },
        "outputId": "e7472a89-9c1e-47ea-acba-ebd72c25d7ce"
      },
      "source": [
        "# develop a classifier for the 5 Celebrity Faces Dataset\n",
        "from random import choice\n",
        "from numpy import load\n",
        "from numpy import expand_dims\n",
        "from sklearn.preprocessing import LabelEncoder\n",
        "from sklearn.preprocessing import Normalizer\n",
        "from sklearn.svm import SVC\n",
        "from matplotlib import pyplot\n",
        "# load faces\n",
        "data = load('faces-dataset.npz')\n",
        "testX_faces = data['arr_2']\n",
        "# load face embeddings\n",
        "data = load('faces-embeddings.npz')\n",
        "trainX, trainy, testX, testy = data['arr_0'], data['arr_1'], data['arr_2'], data['arr_3']\n",
        "# normalize input vectors\n",
        "in_encoder = Normalizer(norm='l2')\n",
        "trainX = in_encoder.transform(trainX)\n",
        "testX = in_encoder.transform(testX)\n",
        "# label encode targets\n",
        "out_encoder = LabelEncoder()\n",
        "out_encoder.fit(trainy)\n",
        "trainy = out_encoder.transform(trainy)\n",
        "testy = out_encoder.transform(testy)\n",
        "# fit model\n",
        "model = SVC(kernel='linear', probability=True)\n",
        "model.fit(trainX, trainy)\n",
        "# test model on a random example from the test dataset\n",
        "selection = choice([i for i in range(testX.shape[0])])\n",
        "random_face_pixels = testX_faces[selection]\n",
        "random_face_emb = testX[selection]\n",
        "random_face_class = testy[selection]\n",
        "random_face_name = out_encoder.inverse_transform([random_face_class])\n",
        "# prediction for the face\n",
        "samples = expand_dims(random_face_emb, axis=0)\n",
        "yhat_class = model.predict(samples)\n",
        "yhat_prob = model.predict_proba(samples)\n",
        "# get name\n",
        "class_index = yhat_class[0]\n",
        "class_probability = yhat_prob[0,class_index] * 100\n",
        "predict_names = out_encoder.inverse_transform(yhat_class)\n",
        "print('Predicted: %s (%.3f)' % (predict_names[0], class_probability))\n",
        "print('Expected: %s' % random_face_name[0])\n",
        "# plot for fun\n",
        "pyplot.imshow(random_face_pixels)\n",
        "title = '%s (%.3f)' % (predict_names[0], class_probability)\n",
        "pyplot.title(title)\n",
        "pyplot.show()"
      ],
      "execution_count": 125,
      "outputs": [
        {
          "output_type": "stream",
          "name": "stdout",
          "text": [
            "Predicted: Xuan Anh (77.168)\n",
            "Expected: Xuan Anh\n"
          ]
        },
        {
          "output_type": "display_data",
          "data": {
            "image/png": "[encoded data removed]",
            "text/plain": [
              "<Figure size 432x288 with 1 Axes>"
            ]
          },
          "metadata": {
            "needs_background": "light"
          }
        }
      ]
    }
  ]
}